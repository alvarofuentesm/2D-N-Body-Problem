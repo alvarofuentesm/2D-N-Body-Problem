{
  "nbformat": 4,
  "nbformat_minor": 0,
  "metadata": {
    "colab": {
      "name": "Visualizador N-Body.ipynb",
      "provenance": []
    },
    "kernelspec": {
      "name": "python3",
      "display_name": "Python 3"
    }
  },
  "cells": [
    {
      "cell_type": "markdown",
      "metadata": {
        "id": "BHESiHhiCNVA",
        "colab_type": "text"
      },
      "source": [
        "## Visualizador"
      ]
    },
    {
      "cell_type": "markdown",
      "metadata": {
        "id": "GPHtVHLCG4IU",
        "colab_type": "text"
      },
      "source": [
        "Importar librerias"
      ]
    },
    {
      "cell_type": "code",
      "metadata": {
        "id": "9YdEj8_oCJjl",
        "colab_type": "code",
        "colab": {}
      },
      "source": [
        "%matplotlib inline\n",
        "import numpy as np\n",
        "import matplotlib.pyplot as plt\n",
        "\n",
        "import matplotlib.collections\n",
        "\n",
        "import random\n",
        "\n",
        "from PIL import Image, ImageDraw\n"
      ],
      "execution_count": null,
      "outputs": []
    },
    {
      "cell_type": "markdown",
      "metadata": {
        "id": "GkX6qIktCQ6f",
        "colab_type": "text"
      },
      "source": [
        "Random Generator"
      ]
    },
    {
      "cell_type": "code",
      "metadata": {
        "id": "BONFXrm4CMev",
        "colab_type": "code",
        "colab": {}
      },
      "source": [
        "# create random input\n",
        "import random\n",
        "file=open(\"input.txt\",'w')\n",
        "\n",
        "#r=round(random.random()*1000)\n",
        "\n",
        "zero_movement = False # ojo: que para ver movimientos apreciables deberia hacerse una simulacion muy larga\n",
        "\n",
        "r = 500\n",
        "\n",
        "file.write(str(r)+'\\n')\n",
        "\n",
        "for stat in ['m','px','py','vx','vy']:\n",
        "\tg=[]\n",
        "\tif stat=='m':\n",
        "\t\tfor particula in range(r):\n",
        "\t\t\tg.append(random.random()*100000000)\n",
        "\n",
        "\telif stat=='px':\n",
        "\t\tfor particula in range(r):\n",
        "\t\t\tg.append(random.choice(range(-1000, 1000)))\n",
        "\n",
        "\telif stat=='py':\n",
        "\t\tfor particula in range(r):\n",
        "\t\t\tg.append(random.choice(range(-1000, 1000)))\n",
        "\n",
        "\telif stat=='vx':\n",
        "\t\tfor particula in range(r):\n",
        "\t\t\tif (zero_movement):\t\n",
        "\t\t\t\tg.append(0)\n",
        "\t\t\telse:\n",
        "\t\t\t\tg.append(random.choice(range(-5, 5)))\n",
        "\n",
        "\telif stat=='vy':\n",
        "\t\tfor particula in range(r):\n",
        "\t\t\tif (zero_movement):\t\n",
        "\t\t\t\tg.append(0)\n",
        "\t\t\telse:\n",
        "\t\t\t\tg.append(random.choice(range(-5, 5)))\n",
        "\n",
        "\tlistToStr = ' '.join([str(elem) for elem in g]) \n",
        "\tif stat!='vy':\n",
        "\t\tfile.write(listToStr+'\\n')\n",
        "\telse:\n",
        "\t\tfile.write(listToStr)\n",
        "\n",
        "file.close()"
      ],
      "execution_count": null,
      "outputs": []
    },
    {
      "cell_type": "markdown",
      "metadata": {
        "id": "8zl-0nTWCdgf",
        "colab_type": "text"
      },
      "source": [
        "Plot and generate GIF functions"
      ]
    },
    {
      "cell_type": "code",
      "metadata": {
        "id": "edei-YWyCU21",
        "colab_type": "code",
        "colab": {}
      },
      "source": [
        "def plot_n_body(filename, mass_scale, velocity_scale, velocity_width, margins, letter_shift, letter_size, generate_image = 0, show = 1):\n",
        "    a = open(filename)\n",
        "    B = int(a.readline())\n",
        "    print(\"Number of bodies: \", B)\n",
        "\n",
        "    masses = np.array(list(map(float,a.readline().strip().split())))\n",
        "    x_pos = np.array(list(map(float,a.readline().strip().split())))\n",
        "    y_pos = np.array(list(map(float,a.readline().strip().split())))\n",
        "    x_vel = np.array(list(map(float,a.readline().strip().split())))\n",
        "    y_vel = np.array(list(map(float,a.readline().strip().split())))\n",
        "\n",
        "\n",
        "    xy = np.zeros([B, 2])\n",
        "    for i in range(B):\n",
        "        xy[i] = [x_pos[i], y_pos[i]]\n",
        "\n",
        "\n",
        "    # scale masses to the plot\n",
        "    masses = masses/mass_scale\n",
        "\n",
        "    # random colors\n",
        "    random.seed(2)\n",
        "    colors = [\"#\"+''.join([random.choice('0123456789ABCDEF') for j in range(6)])\n",
        "             for i in range(B)]\n",
        "\n",
        "    fig, ax = plt.subplots()\n",
        "    coll = matplotlib.collections.EllipseCollection(masses, masses,\n",
        "                                                    np.zeros_like(masses),\n",
        "                                                    offsets=xy, units='x',\n",
        "                                                    transOffset=ax.transData, color=colors)\n",
        "    ax.add_collection(coll)\n",
        "    #ax.margins(margins)\n",
        "    \n",
        "    limits = 1000*margins\n",
        "    plt.xlim(-1*limits, limits)\n",
        "    plt.ylim(-1*limits, limits)\n",
        "\n",
        "    for i in range(B):\n",
        "        #plt.text( x_pos[i] + letter_shift, y_pos[i]+ letter_shift, i, fontsize=letter_size)\n",
        "        plt.arrow(x_pos[i], y_pos[i], x_vel[i]*velocity_scale, y_vel[i]*velocity_scale , width = velocity_width) \n",
        "\n",
        "    if (generate_image):\n",
        "        image_name = filename.split(\".\")[0]\n",
        "        plt.savefig(image_name + '.png')\n",
        "    if (show):\n",
        "       plt.show()\n",
        "\n"
      ],
      "execution_count": null,
      "outputs": []
    },
    {
      "cell_type": "code",
      "metadata": {
        "id": "5-89NvdBCcWZ",
        "colab_type": "code",
        "colab": {}
      },
      "source": [
        "#(filename, mass_scale, velocity_scale, velocity_width, margins, letter_shift, letter_size):\n",
        "# \n",
        "def generateGIF(base_filename, T, show = 1):\n",
        "    n_frames = int(T/1000)\n",
        "    frames = []\n",
        "    for i in range(n_frames):\n",
        "        frames.append(i*1000)\n",
        "    frames.append(T-1)\n",
        "    print(frames)\n",
        "\n",
        "    # generate plots\n",
        "    for i in frames:\n",
        "        filename = 'data/' + str(i) + '-' + str(T) + '-' + base_filename + '.txt'\n",
        "        plot_n_body(filename,  1000000, 0, 0, 1.2, 0, 0, 1, show)\n",
        "    \n",
        "\n",
        "    # generate gif\n",
        "    images = []\n",
        "    for i in frames:\n",
        "        filename = 'data/' + str(i) + '-' + str(T) + '-' + base_filename + '.png'\n",
        "        print(filename)\n",
        "        im =  Image.open(filename)\n",
        "        images.append(im)\n",
        "\n",
        "    images[0].save('gif/GIF-'+ base_filename + '-' + str(T) + '.gif',\n",
        "                save_all=True, append_images=images[1:], optimize=False, duration=100, loop=0)\n"
      ],
      "execution_count": null,
      "outputs": []
    },
    {
      "cell_type": "markdown",
      "metadata": {
        "id": "cISONBRkCg1a",
        "colab_type": "text"
      },
      "source": [
        "Examples "
      ]
    },
    {
      "cell_type": "code",
      "metadata": {
        "id": "CFFHSsoUCpur",
        "colab_type": "code",
        "colab": {}
      },
      "source": [
        "generateGIF('CPU-Resultado', 10000, 1)"
      ],
      "execution_count": null,
      "outputs": []
    },
    {
      "cell_type": "code",
      "metadata": {
        "id": "aF2Lhz9TCrFj",
        "colab_type": "code",
        "colab": {}
      },
      "source": [
        "generateGIF('GPU-Resultado', 10000)"
      ],
      "execution_count": null,
      "outputs": []
    },
    {
      "cell_type": "code",
      "metadata": {
        "id": "eZVUU0PaCsxb",
        "colab_type": "code",
        "colab": {}
      },
      "source": [
        "# Plot Fast N Body Final Result \n",
        "filenameFast = 'data/FPU-Resultado.txt'\n",
        "\n",
        "plot_n_body(filenameFast,  1000000, 0, 0, 1.2, 0, 0, 1, 1)"
      ],
      "execution_count": null,
      "outputs": []
    }
  ]
}